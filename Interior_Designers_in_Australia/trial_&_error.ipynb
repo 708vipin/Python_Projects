{
 "cells": [
  {
   "cell_type": "code",
   "execution_count": null,
   "id": "146daa64",
   "metadata": {},
   "outputs": [],
   "source": [
    "import requests\n",
    "from bs4 import BeautifulSoup\n",
    "\n",
    "base_url = \"https://www.yellowpages.com.au/search/listings?clue=Interior+Designers&locationClue=&lat=&lon=\"\n",
    "\n",
    "url = base_url.format()"
   ]
  }
 ],
 "metadata": {
  "language_info": {
   "name": "python"
  }
 },
 "nbformat": 4,
 "nbformat_minor": 5
}
